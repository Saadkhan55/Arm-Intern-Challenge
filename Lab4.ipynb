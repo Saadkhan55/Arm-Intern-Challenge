{
  "nbformat": 4,
  "nbformat_minor": 0,
  "metadata": {
    "colab": {
      "name": "Lab4.ipynb",
      "version": "0.3.2",
      "provenance": [],
      "include_colab_link": true
    },
    "kernelspec": {
      "name": "python3",
      "display_name": "Python 3"
    }
  },
  "cells": [
    {
      "cell_type": "markdown",
      "metadata": {
        "id": "view-in-github",
        "colab_type": "text"
      },
      "source": [
        "<a href=\"https://colab.research.google.com/github/Saadkhan55/Arm-Intern-Challenge/blob/master/Lab4.ipynb\" target=\"_parent\"><img src=\"https://colab.research.google.com/assets/colab-badge.svg\" alt=\"Open In Colab\"/></a>"
      ]
    },
    {
      "metadata": {
        "id": "HxJYW5jiFNB3",
        "colab_type": "code",
        "colab": {}
      },
      "cell_type": "code",
      "source": [
        "import numpy as np\n",
        "import pandas as pd\n",
        "import matplotlib.pyplot as plt\n",
        "from random import gauss\n",
        "from scipy import constants\n",
        "%matplotlib inline"
      ],
      "execution_count": 0,
      "outputs": []
    },
    {
      "metadata": {
        "id": "fzT1zAShRvF6",
        "colab_type": "code",
        "colab": {}
      },
      "cell_type": "code",
      "source": [
        "def make_rand_vector(dims):\n",
        "    vec = [gauss(0, 1) for i in range(dims)]\n",
        "    mag = sum(x**2 for x in vec) ** .5\n",
        "    return [x/mag for x in vec]"
      ],
      "execution_count": 0,
      "outputs": []
    },
    {
      "metadata": {
        "id": "BGhJOugpFQq2",
        "colab_type": "code",
        "colab": {}
      },
      "cell_type": "code",
      "source": [
        "def gradient_descent_step(x, cost, grad=None, step_size=\"backtracking\"):\n",
        "  if(grad == \"random\"):\n",
        "    grad2 = np.array(make_rand_vector(len(x)))\n",
        "  elif (hasattr(grad, '__call__')):\n",
        "    grad2 = np.array(grad(x))\n",
        "  else:\n",
        "    grad2 = np.array((cost(x+0.001)-cost(x-0.001))/0.002)\n",
        "  if(( isinstance(step_size, int)) or (isinstance(step_size, float))):\n",
        "    step=step_size\n",
        "  elif(step_size==\"backtracking\"):\n",
        "    step=1\n",
        "    while( (cost(x)-cost(x-step*grad2)) < ((step*np.linalg.norm(grad2)**2)/3) ):\n",
        "      step = step*0.3\n",
        "  elif(step_size == \"line_search\"):\n",
        "    line = [-1, 1]\n",
        "    while((line[1]- line[0])>1.1):\n",
        "      if(f(np.array(line[0]))<f(np.array(line[1]))):\n",
        "        line[1] = line[1]/constants.golden\n",
        "#         this wrong\n",
        "      else:\n",
        "        line[0] = line[0]/constants.golden\n",
        "#       as dis\n",
        "    step = ((line[1]-line[0])/2)\n",
        "  print(x, grad2, step)\n",
        "  return (x - (grad2)*step)"
      ],
      "execution_count": 0,
      "outputs": []
    },
    {
      "metadata": {
        "id": "iL7P_0bQf8ax",
        "colab_type": "code",
        "colab": {}
      },
      "cell_type": "code",
      "source": [
        "def gradient_descent(initial_x, cost, num_steps, grad=None, step_size=\"backtracking\"):\n",
        "# Your code goes here\n",
        "  x = initial_x\n",
        "  trace = []\n",
        "  trace.append(x)\n",
        "  for i in range(num_steps):\n",
        "    prev_x = x\n",
        "    x = gradient_descent_step(prev_x, cost, grad, step_size)\n",
        "    trace.append(x)\n",
        "  return x, trace"
      ],
      "execution_count": 0,
      "outputs": []
    },
    {
      "metadata": {
        "id": "fXyPw1O4GaDh",
        "colab_type": "code",
        "colab": {
          "base_uri": "https://localhost:8080/",
          "height": 391
        },
        "outputId": "35303633-cc23-4f6d-9e1e-4e2381d0d8b1"
      },
      "cell_type": "code",
      "source": [
        "cost = lambda x: np.sum(x**2)\n",
        "grad = lambda x: 2*x\n",
        "x = np.array([1,1, 3, 2, 1])\n",
        "steps = \"backtracking\"\n",
        "gradient_descent(initial_x=x,cost=f, num_steps = 10, grad=grad, step_size = 0.1)\n",
        "# x1 = gradient_descent_step(x, cost, grad, step_size)\n",
        "# gradient_descent_step(x1, cost, grad, step_size)"
      ],
      "execution_count": 115,
      "outputs": [
        {
          "output_type": "stream",
          "text": [
            "[1 1 3 2 1] [2 2 6 4 2] 0.1\n",
            "[0.8 0.8 2.4 1.6 0.8] [1.6 1.6 4.8 3.2 1.6] 0.1\n",
            "[0.64 0.64 1.92 1.28 0.64] [1.28 1.28 3.84 2.56 1.28] 0.1\n",
            "[0.512 0.512 1.536 1.024 0.512] [1.024 1.024 3.072 2.048 1.024] 0.1\n",
            "[0.4096 0.4096 1.2288 0.8192 0.4096] [0.8192 0.8192 2.4576 1.6384 0.8192] 0.1\n",
            "[0.32768 0.32768 0.98304 0.65536 0.32768] [0.65536 0.65536 1.96608 1.31072 0.65536] 0.1\n",
            "[0.262144 0.262144 0.786432 0.524288 0.262144] [0.524288 0.524288 1.572864 1.048576 0.524288] 0.1\n",
            "[0.2097152 0.2097152 0.6291456 0.4194304 0.2097152] [0.4194304 0.4194304 1.2582912 0.8388608 0.4194304] 0.1\n",
            "[0.16777216 0.16777216 0.50331648 0.33554432 0.16777216] [0.33554432 0.33554432 1.00663296 0.67108864 0.33554432] 0.1\n",
            "[0.13421773 0.13421773 0.40265318 0.26843546 0.13421773] [0.26843546 0.26843546 0.80530637 0.53687091 0.26843546] 0.1\n"
          ],
          "name": "stdout"
        },
        {
          "output_type": "execute_result",
          "data": {
            "text/plain": [
              "(array([0.10737418, 0.10737418, 0.32212255, 0.21474836, 0.10737418]),\n",
              " [array([1, 1, 3, 2, 1]),\n",
              "  array([0.8, 0.8, 2.4, 1.6, 0.8]),\n",
              "  array([0.64, 0.64, 1.92, 1.28, 0.64]),\n",
              "  array([0.512, 0.512, 1.536, 1.024, 0.512]),\n",
              "  array([0.4096, 0.4096, 1.2288, 0.8192, 0.4096]),\n",
              "  array([0.32768, 0.32768, 0.98304, 0.65536, 0.32768]),\n",
              "  array([0.262144, 0.262144, 0.786432, 0.524288, 0.262144]),\n",
              "  array([0.2097152, 0.2097152, 0.6291456, 0.4194304, 0.2097152]),\n",
              "  array([0.16777216, 0.16777216, 0.50331648, 0.33554432, 0.16777216]),\n",
              "  array([0.13421773, 0.13421773, 0.40265318, 0.26843546, 0.13421773]),\n",
              "  array([0.10737418, 0.10737418, 0.32212255, 0.21474836, 0.10737418])])"
            ]
          },
          "metadata": {
            "tags": []
          },
          "execution_count": 115
        }
      ]
    }
  ]
}