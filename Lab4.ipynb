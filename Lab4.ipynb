{
  "nbformat": 4,
  "nbformat_minor": 0,
  "metadata": {
    "colab": {
      "name": "Lab4.ipynb",
      "version": "0.3.2",
      "provenance": [],
      "include_colab_link": true
    },
    "kernelspec": {
      "name": "python3",
      "display_name": "Python 3"
    }
  },
  "cells": [
    {
      "cell_type": "markdown",
      "metadata": {
        "id": "view-in-github",
        "colab_type": "text"
      },
      "source": [
        "<a href=\"https://colab.research.google.com/github/Saadkhan55/Arm-Intern-Challenge/blob/master/Lab4.ipynb\" target=\"_parent\"><img src=\"https://colab.research.google.com/assets/colab-badge.svg\" alt=\"Open In Colab\"/></a>"
      ]
    },
    {
      "metadata": {
        "id": "HxJYW5jiFNB3",
        "colab_type": "code",
        "colab": {}
      },
      "cell_type": "code",
      "source": [
        "import numpy as np\n",
        "import pandas as pd\n",
        "import matplotlib.pyplot as plt\n",
        "from random import gauss\n",
        "from scipy import constants\n",
        "%matplotlib inline"
      ],
      "execution_count": 0,
      "outputs": []
    },
    {
      "metadata": {
        "id": "fzT1zAShRvF6",
        "colab_type": "code",
        "colab": {}
      },
      "cell_type": "code",
      "source": [
        "def make_rand_vector(dims):\n",
        "    vec = [gauss(0, 1) for i in range(dims)]\n",
        "    mag = sum(x**2 for x in vec) ** .5\n",
        "    return [x/mag for x in vec]\n",
        "def grad_approx(cost, x):\n",
        "  grad=[]\n",
        "  for i in range(len(x)):\n",
        "    xi = x[i]\n",
        "    "
      ],
      "execution_count": 0,
      "outputs": []
    },
    {
      "metadata": {
        "id": "BGhJOugpFQq2",
        "colab_type": "code",
        "colab": {}
      },
      "cell_type": "code",
      "source": [
        "def gradient_descent_step(x, cost, grad=None, step_size=\"backtracking\"):\n",
        "  if(grad == \"random\"):\n",
        "    grad2 = np.array(make_rand_vector(len(x)))\n",
        "  elif (hasattr(grad, '__call__')):\n",
        "    grad2 = np.array(grad(x))\n",
        "  else:\n",
        "    grad2 = np.array((cost(x+0.001)-cost(x-0.001))/0.002)\n",
        "  if(( isinstance(step_size, int)) or (isinstance(step_size, float))):\n",
        "    step=step_size\n",
        "  elif(step_size==\"backtracking\"):\n",
        "    step=1\n",
        "    while( (cost(x)-cost(x-step*grad2)) < ((step*np.linalg.norm(grad2)**2)/3) ):\n",
        "      step = step*0.3\n",
        "  elif(step_size == \"line_search\"):\n",
        "    line = [-1, 1]\n",
        "    while((line[1]- line[0])>1.1):\n",
        "      if(f(np.array(line[0]))<f(np.array(line[1]))):\n",
        "        line[1] = line[1]/constants.golden\n",
        "#         this wrong\n",
        "      else:\n",
        "        line[0] = line[0]/constants.golden\n",
        "#       as dis\n",
        "    step = ((line[1]-line[0])/2)\n",
        "#   print(x, grad2, step)\n",
        "  return (x - (grad2)*step)"
      ],
      "execution_count": 0,
      "outputs": []
    },
    {
      "metadata": {
        "id": "iL7P_0bQf8ax",
        "colab_type": "code",
        "colab": {}
      },
      "cell_type": "code",
      "source": [
        "def gradient_descent(initial_x, cost, num_steps, grad=None, step_size=\"backtracking\"):\n",
        "# Your code goes here\n",
        "  x = initial_x\n",
        "  trace = []\n",
        "  trace.append(x)\n",
        "  for i in range(num_steps):\n",
        "    prev_x = x\n",
        "    x = gradient_descent_step(prev_x, cost, grad, step_size)\n",
        "    trace.append(x)\n",
        "  return x, trace"
      ],
      "execution_count": 0,
      "outputs": []
    },
    {
      "metadata": {
        "id": "fXyPw1O4GaDh",
        "colab_type": "code",
        "colab": {
          "base_uri": "https://localhost:8080/",
          "height": 561
        },
        "outputId": "b72a316b-6d85-4597-c64f-f5637dae75b0"
      },
      "cell_type": "code",
      "source": [
        "cost = lambda x: np.sum(x**2)\n",
        "grad = lambda x: 2*x\n",
        "x = np.array([1,1, 3, 2, 1])\n",
        "steps = \"backtracking\"\n",
        "gradient_descent(initial_x=x,cost=f, num_steps = 10,  step_size = 0.1)"
      ],
      "execution_count": 142,
      "outputs": [
        {
          "output_type": "stream",
          "text": [
            "16.016005\n",
            "15.984005000000002\n",
            "3.2000050000000004\n",
            "3.2000049999999995\n",
            "3.200005\n",
            "3.2000049999999995\n",
            "3.200005\n",
            "3.2000049999999995\n",
            "3.200005\n",
            "3.2000050000000004\n",
            "3.200005\n",
            "3.2000049999999995\n",
            "3.200005\n",
            "3.2000050000000004\n",
            "3.200005\n",
            "3.2000049999999995\n",
            "3.200005\n",
            "3.2000050000000004\n",
            "3.200005\n",
            "3.2000049999999995\n"
          ],
          "name": "stdout"
        },
        {
          "output_type": "execute_result",
          "data": {
            "text/plain": [
              "(array([-0.6, -0.6,  1.4,  0.4, -0.6]),\n",
              " [array([1, 1, 3, 2, 1]),\n",
              "  array([-0.6, -0.6,  1.4,  0.4, -0.6]),\n",
              "  array([-0.6, -0.6,  1.4,  0.4, -0.6]),\n",
              "  array([-0.6, -0.6,  1.4,  0.4, -0.6]),\n",
              "  array([-0.6, -0.6,  1.4,  0.4, -0.6]),\n",
              "  array([-0.6, -0.6,  1.4,  0.4, -0.6]),\n",
              "  array([-0.6, -0.6,  1.4,  0.4, -0.6]),\n",
              "  array([-0.6, -0.6,  1.4,  0.4, -0.6]),\n",
              "  array([-0.6, -0.6,  1.4,  0.4, -0.6]),\n",
              "  array([-0.6, -0.6,  1.4,  0.4, -0.6]),\n",
              "  array([-0.6, -0.6,  1.4,  0.4, -0.6])])"
            ]
          },
          "metadata": {
            "tags": []
          },
          "execution_count": 142
        }
      ]
    }
  ]
}