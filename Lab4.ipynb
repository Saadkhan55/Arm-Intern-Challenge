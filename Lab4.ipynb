{
  "nbformat": 4,
  "nbformat_minor": 0,
  "metadata": {
    "colab": {
      "name": "Lab4.ipynb",
      "version": "0.3.2",
      "provenance": [],
      "include_colab_link": true
    },
    "kernelspec": {
      "name": "python3",
      "display_name": "Python 3"
    }
  },
  "cells": [
    {
      "cell_type": "markdown",
      "metadata": {
        "id": "view-in-github",
        "colab_type": "text"
      },
      "source": [
        "<a href=\"https://colab.research.google.com/github/Saadkhan55/Arm-Intern-Challenge/blob/master/Lab4.ipynb\" target=\"_parent\"><img src=\"https://colab.research.google.com/assets/colab-badge.svg\" alt=\"Open In Colab\"/></a>"
      ]
    },
    {
      "metadata": {
        "id": "HxJYW5jiFNB3",
        "colab_type": "code",
        "colab": {}
      },
      "cell_type": "code",
      "source": [
        "import numpy as np\n",
        "import pandas as pd\n",
        "import matplotlib.pyplot as plt\n",
        "from random import gauss\n",
        "%matplotlib inline"
      ],
      "execution_count": 0,
      "outputs": []
    },
    {
      "metadata": {
        "id": "fzT1zAShRvF6",
        "colab_type": "code",
        "colab": {}
      },
      "cell_type": "code",
      "source": [
        "def make_rand_vector(dims):\n",
        "    vec = [gauss(0, 1) for i in range(dims)]\n",
        "    mag = sum(x**2 for x in vec) ** .5\n",
        "    return [x/mag for x in vec]"
      ],
      "execution_count": 0,
      "outputs": []
    },
    {
      "metadata": {
        "id": "BGhJOugpFQq2",
        "colab_type": "code",
        "colab": {}
      },
      "cell_type": "code",
      "source": [
        "def gradient_descent_step(x, cost, grad=None, step_size=\"backtracking\"):\n",
        "  if(grad == \"random\"):\n",
        "    grad2 = make_rand_vector(len(x))\n",
        "  elif (hasattr(grad, '__call__')):\n",
        "    grad2 = grad(x)\n",
        "  else:\n",
        "    grad2 = (cost(x+0.001)-cost(x-0.001))/0.002\n",
        "  if(isinstance(step_size, int)):\n",
        "    step=step_size\n",
        "  elif(step_size==\"backtracking\"):\n",
        "    step=1\n",
        "    while( np.any((cost(x)-cost(x-step*grad2)) < ((step*np.linalg.norm(grad2)**2)/3)) ):\n",
        "      step = step*0.3\n",
        "  return (x- step*grad2);"
      ],
      "execution_count": 0,
      "outputs": []
    },
    {
      "metadata": {
        "id": "fXyPw1O4GaDh",
        "colab_type": "code",
        "colab": {
          "base_uri": "https://localhost:8080/",
          "height": 34
        },
        "outputId": "928b6488-72b6-43a4-ef38-71d28a8c8a3f"
      },
      "cell_type": "code",
      "source": [
        "f = lambda x: x**2\n",
        "df = lambda x: 2*x\n",
        "gradient_descent_step(x=np.array([1,1, 3, 1, 1]),cost=f, grad=df, step_size = \"backtracking\")"
      ],
      "execution_count": 12,
      "outputs": [
        {
          "output_type": "execute_result",
          "data": {
            "text/plain": [
              "array([1., 1., 3., 1., 1.])"
            ]
          },
          "metadata": {
            "tags": []
          },
          "execution_count": 12
        }
      ]
    }
  ]
}