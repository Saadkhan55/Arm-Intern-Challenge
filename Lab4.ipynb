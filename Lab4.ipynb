{
  "nbformat": 4,
  "nbformat_minor": 0,
  "metadata": {
    "colab": {
      "name": "Lab4.ipynb",
      "version": "0.3.2",
      "provenance": [],
      "include_colab_link": true
    },
    "kernelspec": {
      "name": "python3",
      "display_name": "Python 3"
    }
  },
  "cells": [
    {
      "cell_type": "markdown",
      "metadata": {
        "id": "view-in-github",
        "colab_type": "text"
      },
      "source": [
        "<a href=\"https://colab.research.google.com/github/Saadkhan55/Arm-Intern-Challenge/blob/master/Lab4.ipynb\" target=\"_parent\"><img src=\"https://colab.research.google.com/assets/colab-badge.svg\" alt=\"Open In Colab\"/></a>"
      ]
    },
    {
      "metadata": {
        "id": "HxJYW5jiFNB3",
        "colab_type": "code",
        "colab": {}
      },
      "cell_type": "code",
      "source": [
        "import numpy as np\n",
        "import pandas as pd\n",
        "import matplotlib.pyplot as plt\n",
        "from random import gauss\n",
        "from scipy import constants"
      ],
      "execution_count": 0,
      "outputs": []
    },
    {
      "metadata": {
        "id": "fzT1zAShRvF6",
        "colab_type": "code",
        "colab": {}
      },
      "cell_type": "code",
      "source": [
        "# Generates a random univt vector using gauss\n",
        "# then divides by magnitude to make it unit\n",
        "def rand_vector(length):\n",
        "    unit_vector = [gauss(0, 1) for i in range(length)]\n",
        "    size = sum(x**2 for x in unit_vector) ** 0.5\n",
        "    return [x/size for x in unit_vector]\n",
        "    \n",
        "def grad_approx(cost, x):\n",
        "  grad = x.copy()\n",
        "  for i in range(len(x)):\n",
        "    xi1 = x.copy()\n",
        "    xi2 = x.copy()\n",
        "    xi1[i] = xi1[i] + 0.01\n",
        "    xi2[i] = xi2[i] - 0.01\n",
        "    grad[i] = ((cost(xi1) - cost(xi2))/0.02)\n",
        "  return grad"
      ],
      "execution_count": 0,
      "outputs": []
    },
    {
      "metadata": {
        "id": "BGhJOugpFQq2",
        "colab_type": "code",
        "colab": {}
      },
      "cell_type": "code",
      "source": [
        "def gradient_descent_step(x, cost, grad=None, step_size=\"backtracking\"):\n",
        "  if(grad == \"random\"):\n",
        "    grad2 = np.array(rand_vector(len(x)))\n",
        "  elif (hasattr(grad, '__call__')):\n",
        "    grad2 = np.array(grad(x))\n",
        "  else:\n",
        "    grad2 = grad_approx(cost, x)\n",
        "  if(( isinstance(step_size, int)) or (isinstance(step_size, float))):\n",
        "    step=step_size\n",
        "  elif(step_size==\"backtracking\"):\n",
        "    step=1\n",
        "    while( (cost(x)-cost(x-step*grad2)) < ((step*np.linalg.norm(grad2)**2)/3) ):\n",
        "      step = step*0.3\n",
        "  elif(step_size == \"line_search\"):\n",
        "    line = [-1, 1]\n",
        "    while((line[1]- line[0])>0.001):\n",
        "      if(f(np.array(line[0]))<f(np.array(line[1]))):\n",
        "        line[1]-=(constants.golden*(line[1]-line[0]) - (line[1]-line[0]))\n",
        "      else:\n",
        "        line[0]+=(constants.golden*(line[1]-line[0]) - (line[1]-line[0]))\n",
        "    step = (((line[1]-line[0])/2)+line[0])\n",
        "  return (x - (grad2)*step)"
      ],
      "execution_count": 0,
      "outputs": []
    },
    {
      "metadata": {
        "id": "iL7P_0bQf8ax",
        "colab_type": "code",
        "colab": {}
      },
      "cell_type": "code",
      "source": [
        "def gradient_descent(initial_x, cost, num_steps, grad=None, step_size=\"backtracking\"):\n",
        "# Your code goes here\n",
        "  x = initial_x\n",
        "  trace = []\n",
        "  trace.append(x)\n",
        "  for i in range(1, num_steps):\n",
        "    x = gradient_descent_step(trace[i-1], cost, grad, step_size)\n",
        "    trace.append(x)\n",
        "  return x, trace"
      ],
      "execution_count": 0,
      "outputs": []
    },
    {
      "metadata": {
        "id": "fXyPw1O4GaDh",
        "colab_type": "code",
        "colab": {
          "base_uri": "https://localhost:8080/",
          "height": 119
        },
        "outputId": "861d16b7-bc25-4cfb-cf4b-55079def4ada"
      },
      "cell_type": "code",
      "source": [
        "# For testing purposes\n",
        "cost = lambda x: np.sum(x**2)\n",
        "grad = lambda x: 2*x\n",
        "x = np.array([12,11, 32, 21, 16])\n",
        "steps = \"backtracking\"\n",
        "gradient_descent(initial_x=x,cost=f, grad = grad, num_steps = 5,  step_size =\"line_search\")"
      ],
      "execution_count": 291,
      "outputs": [
        {
          "output_type": "execute_result",
          "data": {
            "text/plain": [
              "(array([0.92530459, 0.84819588, 2.46747892, 1.61928304, 1.23373946]),\n",
              " [array([12, 11, 32, 21, 16]),\n",
              "  array([ 6.32349405,  5.79653621, 16.86265079, 11.06611458,  8.4313254 ]),\n",
              "  array([3.33221475, 3.05453019, 8.88590599, 5.83137581, 4.442953  ]),\n",
              "  array([1.75593668, 1.60960862, 4.6824978 , 3.07288918, 2.3412489 ]),\n",
              "  array([0.92530459, 0.84819588, 2.46747892, 1.61928304, 1.23373946])])"
            ]
          },
          "metadata": {
            "tags": []
          },
          "execution_count": 291
        }
      ]
    }
  ]
}