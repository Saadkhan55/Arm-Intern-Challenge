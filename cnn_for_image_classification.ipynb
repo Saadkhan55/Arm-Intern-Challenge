{
  "nbformat": 4,
  "nbformat_minor": 0,
  "metadata": {
    "colab": {
      "name": "cnn_for_image_classification.ipynb",
      "version": "0.3.2",
      "provenance": [],
      "toc_visible": true,
      "include_colab_link": true
    },
    "kernelspec": {
      "name": "python3",
      "display_name": "Python 3"
    },
    "accelerator": "TPU"
  },
  "cells": [
    {
      "cell_type": "markdown",
      "metadata": {
        "id": "view-in-github",
        "colab_type": "text"
      },
      "source": [
        "<a href=\"https://colab.research.google.com/github/Saadkhan55/Arm-Intern-Challenge/blob/master/cnn_for_image_classification.ipynb\" target=\"_parent\"><img src=\"https://colab.research.google.com/assets/colab-badge.svg\" alt=\"Open In Colab\"/></a>"
      ]
    },
    {
      "metadata": {
        "id": "_YvzyJjcZCcg",
        "colab_type": "text"
      },
      "cell_type": "markdown",
      "source": [
        "# CNN for Image Classification\n",
        "\n",
        "In this lab, you are given a dataset containing 6,000 pictures of cats and dogs (3,000 cats, 3,000 dogs) and asked to train a classifier built upon Convolutional Neural Networks (ConvNets) to classify images as \"dogs\" or \"cats\"."
      ]
    },
    {
      "metadata": {
        "id": "IyrIqMwkZCci",
        "colab_type": "code",
        "colab": {}
      },
      "cell_type": "code",
      "source": [
        "%matplotlib inline\n",
        "\n",
        "import os\n",
        "import numpy as np\n",
        "import matplotlib.pyplot as plt\n",
        "import cv2\n",
        "import pathlib\n",
        "import imageio\n",
        "\n",
        "import keras\n",
        "from keras import metrics\n",
        "from keras.preprocessing.image import ImageDataGenerator\n",
        "from keras.models import Sequential\n",
        "from keras.layers import Dense, Dropout, Activation, Flatten, BatchNormalization\n",
        "from keras.layers import Conv2D, MaxPooling2D"
      ],
      "execution_count": 0,
      "outputs": []
    },
    {
      "metadata": {
        "id": "DUanFvE5aNwS",
        "colab_type": "code",
        "colab": {}
      },
      "cell_type": "code",
      "source": [
        "# Unzip data directory and unpacks in directory named data\n",
        "!unzip data.zip"
      ],
      "execution_count": 0,
      "outputs": []
    },
    {
      "metadata": {
        "id": "NW0k-VaPZCcl",
        "colab_type": "text"
      },
      "cell_type": "markdown",
      "source": [
        "### Exercise 1 \n",
        "Split the dataset by selecting 4,800 pictures for training, 600 for validation, and 600 for testing."
      ]
    },
    {
      "metadata": {
        "scrolled": true,
        "id": "vQ7xuXv8ZCcm",
        "colab_type": "code",
        "colab": {
          "base_uri": "https://localhost:8080/",
          "height": 34
        },
        "outputId": "013b8855-da4d-4912-e496-c5b868553bde"
      },
      "cell_type": "code",
      "source": [
        "img_width = 50\n",
        "img_height = 50\n",
        "num_classes = 2\n",
        "DATA_DIR = './data/'\n",
        "image_filenames = [DATA_DIR+i for i in os.listdir(DATA_DIR)] # use this for full dataset\n",
        "print(image_filenames[10])\n",
        "\n",
        "# Split the data in three sets, 80% for training, 10% for validation and 10% for testing\n",
        "# make sure that the image filenames have a fixed order before shuffling\n",
        "# Add your code here"
      ],
      "execution_count": 21,
      "outputs": [
        {
          "output_type": "stream",
          "text": [
            "./data/cat.2377.jpg\n"
          ],
          "name": "stdout"
        }
      ]
    },
    {
      "metadata": {
        "id": "_TDm-NnSZCcp",
        "colab_type": "text"
      },
      "cell_type": "markdown",
      "source": [
        "### Exercise 2\n",
        "Train a Convolutional Neural Network (ConvNet) on the training set. The general structure of the ConvNet will be a stack of alternated Conv2D (with relu activation) and MaxPooling2D layers. A Conv2D layer creates a convolution kernel that is convolved with the layer input to produce a tensor of outputs. A MaxPooling2D layer is used to downscale input in both the vertical and horizontal dimensions."
      ]
    },
    {
      "metadata": {
        "id": "ppeGztPgZCcq",
        "colab_type": "code",
        "colab": {}
      },
      "cell_type": "code",
      "source": [
        "# Add your code here"
      ],
      "execution_count": 0,
      "outputs": []
    },
    {
      "metadata": {
        "id": "kCHC0F2MZCct",
        "colab_type": "text"
      },
      "cell_type": "markdown",
      "source": [
        "### Exercise 3\n",
        "\n",
        "Output the training/validation loss and accuracy curves. Also print the classification results (e.g., classification accuracy, confusion matrix, precision-recall curves and/or ROC curves) on the test set."
      ]
    },
    {
      "metadata": {
        "id": "wE6QqLYeZCcu",
        "colab_type": "code",
        "colab": {}
      },
      "cell_type": "code",
      "source": [
        "from sklearn.metrics import classification_report, confusion_matrix, precision_recall_curve, roc_curve\n",
        "\n",
        "# Add your code here"
      ],
      "execution_count": 0,
      "outputs": []
    },
    {
      "metadata": {
        "id": "UxFZxrDmZCcx",
        "colab_type": "text"
      },
      "cell_type": "markdown",
      "source": [
        "### Exercise 4\n",
        "\n",
        "Explore different network architectures (e.g., stacking 4 Conv2D+MaxPooling2D layers) and various ways in tuning the model parameters to see if you can improve the model performance on the validation set."
      ]
    },
    {
      "metadata": {
        "id": "-byZN-1XZCcy",
        "colab_type": "code",
        "colab": {}
      },
      "cell_type": "code",
      "source": [
        "# Add your code here"
      ],
      "execution_count": 0,
      "outputs": []
    },
    {
      "metadata": {
        "id": "hOZmVWp8ZCc1",
        "colab_type": "text"
      },
      "cell_type": "markdown",
      "source": [
        "### Exercise 5\n",
        "\n",
        "Apply the trained model on the testing set and output the classification results."
      ]
    },
    {
      "metadata": {
        "id": "sGWNan_AZCc2",
        "colab_type": "code",
        "colab": {}
      },
      "cell_type": "code",
      "source": [
        "# Add your code here"
      ],
      "execution_count": 0,
      "outputs": []
    },
    {
      "metadata": {
        "id": "Bh4IPcEUZCc5",
        "colab_type": "text"
      },
      "cell_type": "markdown",
      "source": [
        "### Exercise 6 \n",
        "\n",
        "Plot the saliency map of original image to see which part is important for making classification decisions. You can refer to the following blog article on how to generate visualisation results of the filters in the ConvNets.\n",
        "https://blog.keras.io/how-convolutional-neural-networks-see-the-world.html"
      ]
    },
    {
      "metadata": {
        "id": "o__eH95OZCc7",
        "colab_type": "code",
        "colab": {}
      },
      "cell_type": "code",
      "source": [
        "# Add your code here"
      ],
      "execution_count": 0,
      "outputs": []
    }
  ]
}